{
 "cells": [
  {
   "cell_type": "code",
   "execution_count": 18,
   "id": "4a591855-75d6-41bb-88da-99ef87179e55",
   "metadata": {},
   "outputs": [],
   "source": [
    "# loading libraries\n",
    "import pandas as pd\n",
    "import matplotlib.pyplot as plt\n",
    "import seaborn as sns\n",
    "import plotly.express as px\n",
    "sns.set_theme(style='whitegrid')"
   ]
  },
  {
   "cell_type": "code",
   "execution_count": 2,
   "id": "b9421268-e480-4269-aed2-e823a36ac79e",
   "metadata": {},
   "outputs": [],
   "source": [
    "# Loading datasets\n",
    "folder = 'c:/Users/saaye/OneDrive/Documents/Machine Learning Projects/DATAnalyze/data/'\n",
    "df1 = pd.read_excel(folder + 'DIGITAL_ECONOMY_SOCIETY-GLOBAL.xlsx')\n",
    "df2 = pd.read_excel(folder + 'HEALTH INDICATOR-GLOBAL.xlsx')\n",
    "df3 = pd.read_excel(folder + 'HEALTH STATUS- GLOBAL.xlsx')"
   ]
  },
  {
   "cell_type": "code",
   "execution_count": 3,
   "id": "13ce6b0e",
   "metadata": {},
   "outputs": [],
   "source": [
    "# Removing columns (mostly single observation in these rows and others not necessary)\n",
    "df1.drop(['Super Region', 'Source', 'Information society indicator','Sub-Sector', 'Time Level', 'Sub-Sector Level 2', 'Sub-Sector Level 3'], axis=1, inplace=True)\n",
    "df2.drop(['Sub-Sector', 'Super Region', 'SOURCE ORGANIZATION', 'Indicator Name', 'Source', 'Special Notes', 'Region'], axis=1, inplace=True)\n",
    "df3.drop(['Sub-Sector', 'Super Region', 'Measure', 'Frequency', 'Source', 'Indicator'], axis=1, inplace=True)"
   ]
  },
  {
   "cell_type": "code",
   "execution_count": 4,
   "id": "74618b75",
   "metadata": {},
   "outputs": [],
   "source": [
    "# Digital dataset has records for three years. I filtered only these years so we have common datasets\n",
    "df2 = df2[df2['Date'].isin(list(df1['Date'].unique()))]\n",
    "df3 = df3[df3['Date'].isin(list(df1['Date'].unique()))]"
   ]
  },
  {
   "cell_type": "code",
   "execution_count": 5,
   "id": "3b8f48cb",
   "metadata": {},
   "outputs": [],
   "source": [
    "# Renamed the columns for merging\n",
    "df1.rename(columns={'Geopolitical entity (reporting)': 'Country Name'}, inplace=True)\n",
    "df3.rename(columns={'Region': 'Country Name'}, inplace=True)"
   ]
  },
  {
   "cell_type": "code",
   "execution_count": 6,
   "id": "fc934146",
   "metadata": {},
   "outputs": [],
   "source": [
    "# first merge of the column is based on Country Name. So we are working on Europeans countries only\n",
    "# second merge of the column is on Date. So the observations correspond to same dates on both datasets\n",
    "data = pd.merge(df1, df2,  how='inner', on=['Country Name', 'Date'], sort=True, suffixes=('_digital', '_health'))"
   ]
  },
  {
   "cell_type": "code",
   "execution_count": 7,
   "id": "54edb21e",
   "metadata": {},
   "outputs": [],
   "source": [
    "# Converted the date column to datetime object\n",
    "# Also converted all the dates to year since they are all reports of end of the year\n",
    "data['Date'] = pd.to_datetime(data['Date'])\n",
    "data['Date'] = pd.DatetimeIndex(data['Date']).year"
   ]
  },
  {
   "cell_type": "code",
   "execution_count": 24,
   "id": "4cb82db5",
   "metadata": {},
   "outputs": [],
   "source": [
    "data.sort_values(by=['Value_digital'], inplace=True)\n",
    "data['Date'] = data['Date'].astype(str)"
   ]
  },
  {
   "cell_type": "code",
   "execution_count": 9,
   "id": "f3d560a3",
   "metadata": {},
   "outputs": [],
   "source": [
    "# A lot of columns have similar data on several rows. So i grouped and aggregated them for visualisation\n",
    "#data = data.groupby(['Country Name', 'Date', 'Individual type', 'Unit of measure', 'Income Group']).agg('mean')"
   ]
  },
  {
   "cell_type": "code",
   "execution_count": 10,
   "id": "8efb7530",
   "metadata": {},
   "outputs": [],
   "source": [
    "# saved clean data locally\n",
    "data.to_csv('clean_data.csv')"
   ]
  },
  {
   "cell_type": "code",
   "execution_count": 29,
   "id": "7a21362d",
   "metadata": {},
   "outputs": [
    {
     "data": {
      "text/html": [
       "<div>\n",
       "<style scoped>\n",
       "    .dataframe tbody tr th:only-of-type {\n",
       "        vertical-align: middle;\n",
       "    }\n",
       "\n",
       "    .dataframe tbody tr th {\n",
       "        vertical-align: top;\n",
       "    }\n",
       "\n",
       "    .dataframe thead th {\n",
       "        text-align: right;\n",
       "    }\n",
       "</style>\n",
       "<table border=\"1\" class=\"dataframe\">\n",
       "  <thead>\n",
       "    <tr style=\"text-align: right;\">\n",
       "      <th></th>\n",
       "      <th>Value_digital</th>\n",
       "      <th>Date</th>\n",
       "      <th>Country Name</th>\n",
       "      <th>Individual type</th>\n",
       "      <th>Unit of measure</th>\n",
       "      <th>Value_health</th>\n",
       "      <th>Income Group</th>\n",
       "    </tr>\n",
       "  </thead>\n",
       "  <tbody>\n",
       "    <tr>\n",
       "      <th>182</th>\n",
       "      <td>15</td>\n",
       "      <td>2009</td>\n",
       "      <td>SERBIA</td>\n",
       "      <td>ACTIVE LABOUR FORCE (EMPLOYED AND UNEMPLOYED)</td>\n",
       "      <td>PERCENTAGE OF INDIVIDUALS</td>\n",
       "      <td>19.5</td>\n",
       "      <td>UPPER MIDDLE INCOME</td>\n",
       "    </tr>\n",
       "    <tr>\n",
       "      <th>176</th>\n",
       "      <td>17</td>\n",
       "      <td>2009</td>\n",
       "      <td>ROMANIA</td>\n",
       "      <td>ACTIVE LABOUR FORCE (EMPLOYED AND UNEMPLOYED)</td>\n",
       "      <td>PERCENTAGE OF INDIVIDUALS</td>\n",
       "      <td>12.2</td>\n",
       "      <td>UPPER MIDDLE INCOME</td>\n",
       "    </tr>\n",
       "    <tr>\n",
       "      <th>114</th>\n",
       "      <td>17</td>\n",
       "      <td>2009</td>\n",
       "      <td>IRELAND</td>\n",
       "      <td>ACTIVE LABOUR FORCE (EMPLOYED AND UNEMPLOYED)</td>\n",
       "      <td>PERCENTAGE OF INDIVIDUALS</td>\n",
       "      <td>14.0</td>\n",
       "      <td>HIGH INCOME</td>\n",
       "    </tr>\n",
       "    <tr>\n",
       "      <th>92</th>\n",
       "      <td>18</td>\n",
       "      <td>2009</td>\n",
       "      <td>GREECE</td>\n",
       "      <td>ALL INDIVIDUALS</td>\n",
       "      <td>PERCENTAGE OF INDIVIDUALS</td>\n",
       "      <td>3.6</td>\n",
       "      <td>HIGH INCOME</td>\n",
       "    </tr>\n",
       "    <tr>\n",
       "      <th>178</th>\n",
       "      <td>19</td>\n",
       "      <td>2010</td>\n",
       "      <td>ROMANIA</td>\n",
       "      <td>ACTIVE LABOUR FORCE (EMPLOYED AND UNEMPLOYED)</td>\n",
       "      <td>PERCENTAGE OF INDIVIDUALS</td>\n",
       "      <td>14.0</td>\n",
       "      <td>UPPER MIDDLE INCOME</td>\n",
       "    </tr>\n",
       "    <tr>\n",
       "      <th>...</th>\n",
       "      <td>...</td>\n",
       "      <td>...</td>\n",
       "      <td>...</td>\n",
       "      <td>...</td>\n",
       "      <td>...</td>\n",
       "      <td>...</td>\n",
       "      <td>...</td>\n",
       "    </tr>\n",
       "    <tr>\n",
       "      <th>137</th>\n",
       "      <td>67</td>\n",
       "      <td>2012</td>\n",
       "      <td>LITHUANIA</td>\n",
       "      <td>ACTIVE LABOUR FORCE (EMPLOYED AND UNEMPLOYED)</td>\n",
       "      <td>PERCENTAGE OF INDIVIDUALS WHO USED INTERNET IN...</td>\n",
       "      <td>35.0</td>\n",
       "      <td>HIGH INCOME</td>\n",
       "    </tr>\n",
       "    <tr>\n",
       "      <th>156</th>\n",
       "      <td>73</td>\n",
       "      <td>2012</td>\n",
       "      <td>NETHERLANDS</td>\n",
       "      <td>ACTIVE LABOUR FORCE (EMPLOYED AND UNEMPLOYED)</td>\n",
       "      <td>PERCENTAGE OF INDIVIDUALS</td>\n",
       "      <td>10.7</td>\n",
       "      <td>HIGH INCOME</td>\n",
       "    </tr>\n",
       "    <tr>\n",
       "      <th>151</th>\n",
       "      <td>74</td>\n",
       "      <td>2012</td>\n",
       "      <td>MONTENEGRO</td>\n",
       "      <td>ACTIVE LABOUR FORCE (EMPLOYED AND UNEMPLOYED)</td>\n",
       "      <td>PERCENTAGE OF INDIVIDUALS WHO USED INTERNET IN...</td>\n",
       "      <td>21.0</td>\n",
       "      <td>UPPER MIDDLE INCOME</td>\n",
       "    </tr>\n",
       "    <tr>\n",
       "      <th>157</th>\n",
       "      <td>74</td>\n",
       "      <td>2012</td>\n",
       "      <td>NETHERLANDS</td>\n",
       "      <td>ACTIVE LABOUR FORCE (EMPLOYED AND UNEMPLOYED)</td>\n",
       "      <td>PERCENTAGE OF INDIVIDUALS WHO USED INTERNET IN...</td>\n",
       "      <td>10.7</td>\n",
       "      <td>HIGH INCOME</td>\n",
       "    </tr>\n",
       "    <tr>\n",
       "      <th>175</th>\n",
       "      <td>74</td>\n",
       "      <td>2012</td>\n",
       "      <td>PORTUGAL</td>\n",
       "      <td>ACTIVE LABOUR FORCE (EMPLOYED AND UNEMPLOYED)</td>\n",
       "      <td>PERCENTAGE OF INDIVIDUALS WHO USED INTERNET IN...</td>\n",
       "      <td>13.5</td>\n",
       "      <td>HIGH INCOME</td>\n",
       "    </tr>\n",
       "  </tbody>\n",
       "</table>\n",
       "<p>214 rows × 7 columns</p>\n",
       "</div>"
      ],
      "text/plain": [
       "     Value_digital  Date Country Name  \\\n",
       "182             15  2009       SERBIA   \n",
       "176             17  2009      ROMANIA   \n",
       "114             17  2009      IRELAND   \n",
       "92              18  2009       GREECE   \n",
       "178             19  2010      ROMANIA   \n",
       "..             ...   ...          ...   \n",
       "137             67  2012    LITHUANIA   \n",
       "156             73  2012  NETHERLANDS   \n",
       "151             74  2012   MONTENEGRO   \n",
       "157             74  2012  NETHERLANDS   \n",
       "175             74  2012     PORTUGAL   \n",
       "\n",
       "                                   Individual type  \\\n",
       "182  ACTIVE LABOUR FORCE (EMPLOYED AND UNEMPLOYED)   \n",
       "176  ACTIVE LABOUR FORCE (EMPLOYED AND UNEMPLOYED)   \n",
       "114  ACTIVE LABOUR FORCE (EMPLOYED AND UNEMPLOYED)   \n",
       "92                                 ALL INDIVIDUALS   \n",
       "178  ACTIVE LABOUR FORCE (EMPLOYED AND UNEMPLOYED)   \n",
       "..                                             ...   \n",
       "137  ACTIVE LABOUR FORCE (EMPLOYED AND UNEMPLOYED)   \n",
       "156  ACTIVE LABOUR FORCE (EMPLOYED AND UNEMPLOYED)   \n",
       "151  ACTIVE LABOUR FORCE (EMPLOYED AND UNEMPLOYED)   \n",
       "157  ACTIVE LABOUR FORCE (EMPLOYED AND UNEMPLOYED)   \n",
       "175  ACTIVE LABOUR FORCE (EMPLOYED AND UNEMPLOYED)   \n",
       "\n",
       "                                       Unit of measure  Value_health  \\\n",
       "182                          PERCENTAGE OF INDIVIDUALS          19.5   \n",
       "176                          PERCENTAGE OF INDIVIDUALS          12.2   \n",
       "114                          PERCENTAGE OF INDIVIDUALS          14.0   \n",
       "92                           PERCENTAGE OF INDIVIDUALS           3.6   \n",
       "178                          PERCENTAGE OF INDIVIDUALS          14.0   \n",
       "..                                                 ...           ...   \n",
       "137  PERCENTAGE OF INDIVIDUALS WHO USED INTERNET IN...          35.0   \n",
       "156                          PERCENTAGE OF INDIVIDUALS          10.7   \n",
       "151  PERCENTAGE OF INDIVIDUALS WHO USED INTERNET IN...          21.0   \n",
       "157  PERCENTAGE OF INDIVIDUALS WHO USED INTERNET IN...          10.7   \n",
       "175  PERCENTAGE OF INDIVIDUALS WHO USED INTERNET IN...          13.5   \n",
       "\n",
       "            Income Group  \n",
       "182  UPPER MIDDLE INCOME  \n",
       "176  UPPER MIDDLE INCOME  \n",
       "114          HIGH INCOME  \n",
       "92           HIGH INCOME  \n",
       "178  UPPER MIDDLE INCOME  \n",
       "..                   ...  \n",
       "137          HIGH INCOME  \n",
       "156          HIGH INCOME  \n",
       "151  UPPER MIDDLE INCOME  \n",
       "157          HIGH INCOME  \n",
       "175          HIGH INCOME  \n",
       "\n",
       "[214 rows x 7 columns]"
      ]
     },
     "execution_count": 29,
     "metadata": {},
     "output_type": "execute_result"
    }
   ],
   "source": [
    "data"
   ]
  },
  {
   "cell_type": "code",
   "execution_count": 140,
   "id": "eec90472",
   "metadata": {},
   "outputs": [
    {
     "data": {
      "application/vnd.plotly.v1+json": {
       "config": {
        "plotlyServerURL": "https://plot.ly"
       },
       "data": [
        {
         "alignmentgroup": "True",
         "hovertemplate": "<b>%{hovertext}</b><br><br>Unit of measure=PERCENTAGE OF INDIVIDUALS<br>Date=2009<br>Income Group=UPPER MIDDLE INCOME<br>Country Name=%{x}<br>Value_digital=%{y}<extra></extra>",
         "hovertext": [
          "ACTIVE LABOUR FORCE (EMPLOYED AND UNEMPLOYED)",
          "ACTIVE LABOUR FORCE (EMPLOYED AND UNEMPLOYED)",
          "ALL INDIVIDUALS",
          "ACTIVE LABOUR FORCE (EMPLOYED AND UNEMPLOYED)",
          "ACTIVE LABOUR FORCE (EMPLOYED AND UNEMPLOYED)"
         ],
         "legendgroup": "PERCENTAGE OF INDIVIDUALS",
         "marker": {
          "color": "#636efa",
          "pattern": {
           "shape": ""
          }
         },
         "name": "PERCENTAGE OF INDIVIDUALS",
         "offsetgroup": "PERCENTAGE OF INDIVIDUALS",
         "orientation": "v",
         "showlegend": true,
         "textposition": "auto",
         "type": "bar",
         "x": [
          "SERBIA",
          "ROMANIA",
          "BULGARIA",
          "BULGARIA",
          "TURKEY"
         ],
         "xaxis": "x5",
         "y": [
          15,
          17,
          22,
          24,
          25
         ],
         "yaxis": "y5"
        },
        {
         "alignmentgroup": "True",
         "hovertemplate": "<b>%{hovertext}</b><br><br>Unit of measure=PERCENTAGE OF INDIVIDUALS<br>Date=2009<br>Income Group=HIGH INCOME<br>Country Name=%{x}<br>Value_digital=%{y}<extra></extra>",
         "hovertext": [
          "ACTIVE LABOUR FORCE (EMPLOYED AND UNEMPLOYED)",
          "ALL INDIVIDUALS",
          "ACTIVE LABOUR FORCE (EMPLOYED AND UNEMPLOYED)",
          "ACTIVE LABOUR FORCE (EMPLOYED AND UNEMPLOYED)",
          "ACTIVE LABOUR FORCE (EMPLOYED AND UNEMPLOYED)",
          "ALL INDIVIDUALS",
          "ALL INDIVIDUALS",
          "ACTIVE LABOUR FORCE (EMPLOYED AND UNEMPLOYED)",
          "ACTIVE LABOUR FORCE (EMPLOYED AND UNEMPLOYED)",
          "ALL INDIVIDUALS",
          "ALL INDIVIDUALS",
          "ACTIVE LABOUR FORCE (EMPLOYED AND UNEMPLOYED)",
          "ACTIVE LABOUR FORCE (EMPLOYED AND UNEMPLOYED)",
          "ALL INDIVIDUALS",
          "ACTIVE LABOUR FORCE (EMPLOYED AND UNEMPLOYED)",
          "ALL INDIVIDUALS",
          "ACTIVE LABOUR FORCE (EMPLOYED AND UNEMPLOYED)",
          "ALL INDIVIDUALS",
          "ACTIVE LABOUR FORCE (EMPLOYED AND UNEMPLOYED)",
          "ACTIVE LABOUR FORCE (EMPLOYED AND UNEMPLOYED)",
          "ACTIVE LABOUR FORCE (EMPLOYED AND UNEMPLOYED)",
          "ACTIVE LABOUR FORCE (EMPLOYED AND UNEMPLOYED)",
          "ALL INDIVIDUALS",
          "ACTIVE LABOUR FORCE (EMPLOYED AND UNEMPLOYED)",
          "ACTIVE LABOUR FORCE (EMPLOYED AND UNEMPLOYED)",
          "ACTIVE LABOUR FORCE (EMPLOYED AND UNEMPLOYED)",
          "ACTIVE LABOUR FORCE (EMPLOYED AND UNEMPLOYED)",
          "ALL INDIVIDUALS",
          "ACTIVE LABOUR FORCE (EMPLOYED AND UNEMPLOYED)",
          "ACTIVE LABOUR FORCE (EMPLOYED AND UNEMPLOYED)",
          "ACTIVE LABOUR FORCE (EMPLOYED AND UNEMPLOYED)",
          "ACTIVE LABOUR FORCE (EMPLOYED AND UNEMPLOYED)",
          "ACTIVE LABOUR FORCE (EMPLOYED AND UNEMPLOYED)",
          "ALL INDIVIDUALS",
          "ACTIVE LABOUR FORCE (EMPLOYED AND UNEMPLOYED)",
          "ACTIVE LABOUR FORCE (EMPLOYED AND UNEMPLOYED)",
          "ACTIVE LABOUR FORCE (EMPLOYED AND UNEMPLOYED)"
         ],
         "legendgroup": "PERCENTAGE OF INDIVIDUALS",
         "marker": {
          "color": "#636efa",
          "pattern": {
           "shape": ""
          }
         },
         "name": "PERCENTAGE OF INDIVIDUALS",
         "offsetgroup": "PERCENTAGE OF INDIVIDUALS",
         "orientation": "v",
         "showlegend": false,
         "textposition": "auto",
         "type": "bar",
         "x": [
          "IRELAND",
          "GREECE",
          "CYPRUS",
          "CZECH REPUBLIC",
          "GREECE",
          "CROATIA",
          "CYPRUS",
          "ITALY",
          "PORTUGAL",
          "AUSTRIA",
          "CZECH REPUBLIC",
          "CROATIA",
          "AUSTRIA",
          "FRANCE",
          "FRANCE",
          "FINLAND",
          "NETHERLANDS",
          "BELGIUM",
          "FINLAND",
          "MALTA",
          "BELGIUM",
          "LATVIA",
          "HUNGARY",
          "SWEDEN",
          "SPAIN",
          "SLOVENIA",
          "UNITED KINGDOM",
          "ESTONIA",
          "POLAND",
          "LUXEMBOURG",
          "LITHUANIA",
          "ESTONIA",
          "HUNGARY",
          "DENMARK",
          "DENMARK",
          "NORWAY",
          "ICELAND"
         ],
         "xaxis": "x6",
         "y": [
          17,
          18,
          19,
          20,
          20,
          21,
          21,
          21,
          21,
          22,
          22,
          23,
          23,
          25,
          27,
          27,
          28,
          28,
          28,
          28,
          29,
          31,
          34,
          35,
          35,
          35,
          37,
          37,
          38,
          38,
          39,
          39,
          41,
          51,
          53,
          53,
          54
         ],
         "yaxis": "y6"
        },
        {
         "alignmentgroup": "True",
         "hovertemplate": "<b>%{hovertext}</b><br><br>Unit of measure=PERCENTAGE OF INDIVIDUALS<br>Date=2010<br>Income Group=UPPER MIDDLE INCOME<br>Country Name=%{x}<br>Value_digital=%{y}<extra></extra>",
         "hovertext": [
          "ACTIVE LABOUR FORCE (EMPLOYED AND UNEMPLOYED)",
          "ALL INDIVIDUALS",
          "ACTIVE LABOUR FORCE (EMPLOYED AND UNEMPLOYED)",
          "ACTIVE LABOUR FORCE (EMPLOYED AND UNEMPLOYED)"
         ],
         "legendgroup": "PERCENTAGE OF INDIVIDUALS",
         "marker": {
          "color": "#636efa",
          "pattern": {
           "shape": ""
          }
         },
         "name": "PERCENTAGE OF INDIVIDUALS",
         "offsetgroup": "PERCENTAGE OF INDIVIDUALS",
         "orientation": "v",
         "showlegend": false,
         "textposition": "auto",
         "type": "bar",
         "x": [
          "ROMANIA",
          "BULGARIA",
          "BULGARIA",
          "TURKEY"
         ],
         "xaxis": "x3",
         "y": [
          19,
          24,
          26,
          32
         ],
         "yaxis": "y3"
        },
        {
         "alignmentgroup": "True",
         "hovertemplate": "<b>%{hovertext}</b><br><br>Unit of measure=PERCENTAGE OF INDIVIDUALS<br>Date=2010<br>Income Group=HIGH INCOME<br>Country Name=%{x}<br>Value_digital=%{y}<extra></extra>",
         "hovertext": [
          "ALL INDIVIDUALS",
          "ACTIVE LABOUR FORCE (EMPLOYED AND UNEMPLOYED)",
          "ALL INDIVIDUALS",
          "ACTIVE LABOUR FORCE (EMPLOYED AND UNEMPLOYED)",
          "ACTIVE LABOUR FORCE (EMPLOYED AND UNEMPLOYED)",
          "ACTIVE LABOUR FORCE (EMPLOYED AND UNEMPLOYED)",
          "ALL INDIVIDUALS",
          "ACTIVE LABOUR FORCE (EMPLOYED AND UNEMPLOYED)",
          "ALL INDIVIDUALS",
          "ACTIVE LABOUR FORCE (EMPLOYED AND UNEMPLOYED)",
          "ALL INDIVIDUALS",
          "ACTIVE LABOUR FORCE (EMPLOYED AND UNEMPLOYED)",
          "ACTIVE LABOUR FORCE (EMPLOYED AND UNEMPLOYED)",
          "ALL INDIVIDUALS",
          "ACTIVE LABOUR FORCE (EMPLOYED AND UNEMPLOYED)",
          "ALL INDIVIDUALS",
          "ACTIVE LABOUR FORCE (EMPLOYED AND UNEMPLOYED)",
          "ACTIVE LABOUR FORCE (EMPLOYED AND UNEMPLOYED)",
          "ALL INDIVIDUALS",
          "ALL INDIVIDUALS",
          "ACTIVE LABOUR FORCE (EMPLOYED AND UNEMPLOYED)",
          "ACTIVE LABOUR FORCE (EMPLOYED AND UNEMPLOYED)",
          "ACTIVE LABOUR FORCE (EMPLOYED AND UNEMPLOYED)",
          "ACTIVE LABOUR FORCE (EMPLOYED AND UNEMPLOYED)",
          "ACTIVE LABOUR FORCE (EMPLOYED AND UNEMPLOYED)",
          "ACTIVE LABOUR FORCE (EMPLOYED AND UNEMPLOYED)",
          "ACTIVE LABOUR FORCE (EMPLOYED AND UNEMPLOYED)",
          "ACTIVE LABOUR FORCE (EMPLOYED AND UNEMPLOYED)",
          "ALL INDIVIDUALS",
          "ACTIVE LABOUR FORCE (EMPLOYED AND UNEMPLOYED)",
          "ACTIVE LABOUR FORCE (EMPLOYED AND UNEMPLOYED)",
          "ACTIVE LABOUR FORCE (EMPLOYED AND UNEMPLOYED)",
          "ALL INDIVIDUALS",
          "ACTIVE LABOUR FORCE (EMPLOYED AND UNEMPLOYED)",
          "ACTIVE LABOUR FORCE (EMPLOYED AND UNEMPLOYED)",
          "ACTIVE LABOUR FORCE (EMPLOYED AND UNEMPLOYED)",
          "ACTIVE LABOUR FORCE (EMPLOYED AND UNEMPLOYED)"
         ],
         "legendgroup": "PERCENTAGE OF INDIVIDUALS",
         "marker": {
          "color": "#636efa",
          "pattern": {
           "shape": ""
          }
         },
         "name": "PERCENTAGE OF INDIVIDUALS",
         "offsetgroup": "PERCENTAGE OF INDIVIDUALS",
         "orientation": "v",
         "showlegend": false,
         "textposition": "auto",
         "type": "bar",
         "x": [
          "GREECE",
          "CYPRUS",
          "CROATIA",
          "CROATIA",
          "CZECH REPUBLIC",
          "ITALY",
          "CYPRUS",
          "GREECE",
          "CZECH REPUBLIC",
          "IRELAND",
          "AUSTRIA",
          "LATVIA",
          "AUSTRIA",
          "BELGIUM",
          "BELGIUM",
          "FRANCE",
          "FRANCE",
          "SPAIN",
          "HUNGARY",
          "ESTONIA",
          "LUXEMBOURG",
          "ESTONIA",
          "SLOVENIA",
          "MALTA",
          "UNITED KINGDOM",
          "PORTUGAL",
          "ICELAND",
          "HUNGARY",
          "FINLAND",
          "NETHERLANDS",
          "LITHUANIA",
          "FINLAND",
          "DENMARK",
          "DENMARK",
          "POLAND",
          "NORWAY",
          "SWEDEN"
         ],
         "xaxis": "x4",
         "y": [
          21,
          23,
          23,
          23,
          24,
          24,
          25,
          25,
          26,
          26,
          27,
          28,
          29,
          30,
          31,
          31,
          32,
          34,
          35,
          35,
          36,
          36,
          37,
          37,
          39,
          39,
          41,
          41,
          42,
          43,
          44,
          44,
          45,
          46,
          46,
          47,
          48
         ],
         "yaxis": "y4"
        },
        {
         "alignmentgroup": "True",
         "hovertemplate": "<b>%{hovertext}</b><br><br>Unit of measure=PERCENTAGE OF INDIVIDUALS<br>Date=2012<br>Income Group=UPPER MIDDLE INCOME<br>Country Name=%{x}<br>Value_digital=%{y}<extra></extra>",
         "hovertext": [
          "ACTIVE LABOUR FORCE (EMPLOYED AND UNEMPLOYED)",
          "ACTIVE LABOUR FORCE (EMPLOYED AND UNEMPLOYED)",
          "ALL INDIVIDUALS",
          "ACTIVE LABOUR FORCE (EMPLOYED AND UNEMPLOYED)",
          "ACTIVE LABOUR FORCE (EMPLOYED AND UNEMPLOYED)"
         ],
         "legendgroup": "PERCENTAGE OF INDIVIDUALS",
         "marker": {
          "color": "#636efa",
          "pattern": {
           "shape": ""
          }
         },
         "name": "PERCENTAGE OF INDIVIDUALS",
         "offsetgroup": "PERCENTAGE OF INDIVIDUALS",
         "orientation": "v",
         "showlegend": false,
         "textposition": "auto",
         "type": "bar",
         "x": [
          "TURKEY",
          "ROMANIA",
          "BULGARIA",
          "BULGARIA",
          "MONTENEGRO"
         ],
         "xaxis": "x",
         "y": [
          23,
          24,
          30,
          33,
          45
         ],
         "yaxis": "y"
        },
        {
         "alignmentgroup": "True",
         "hovertemplate": "<b>%{hovertext}</b><br><br>Unit of measure=PERCENTAGE OF INDIVIDUALS<br>Date=2012<br>Income Group=HIGH INCOME<br>Country Name=%{x}<br>Value_digital=%{y}<extra></extra>",
         "hovertext": [
          "ALL INDIVIDUALS",
          "ACTIVE LABOUR FORCE (EMPLOYED AND UNEMPLOYED)",
          "ALL INDIVIDUALS",
          "ALL INDIVIDUALS",
          "ACTIVE LABOUR FORCE (EMPLOYED AND UNEMPLOYED)",
          "ACTIVE LABOUR FORCE (EMPLOYED AND UNEMPLOYED)",
          "ALL INDIVIDUALS",
          "ALL INDIVIDUALS",
          "ALL INDIVIDUALS",
          "ACTIVE LABOUR FORCE (EMPLOYED AND UNEMPLOYED)",
          "ACTIVE LABOUR FORCE (EMPLOYED AND UNEMPLOYED)",
          "ACTIVE LABOUR FORCE (EMPLOYED AND UNEMPLOYED)",
          "ACTIVE LABOUR FORCE (EMPLOYED AND UNEMPLOYED)",
          "ACTIVE LABOUR FORCE (EMPLOYED AND UNEMPLOYED)",
          "ALL INDIVIDUALS",
          "ALL INDIVIDUALS",
          "ACTIVE LABOUR FORCE (EMPLOYED AND UNEMPLOYED)",
          "ACTIVE LABOUR FORCE (EMPLOYED AND UNEMPLOYED)",
          "ACTIVE LABOUR FORCE (EMPLOYED AND UNEMPLOYED)",
          "ALL INDIVIDUALS",
          "ALL INDIVIDUALS",
          "ACTIVE LABOUR FORCE (EMPLOYED AND UNEMPLOYED)",
          "ALL INDIVIDUALS",
          "ACTIVE LABOUR FORCE (EMPLOYED AND UNEMPLOYED)",
          "ACTIVE LABOUR FORCE (EMPLOYED AND UNEMPLOYED)",
          "ACTIVE LABOUR FORCE (EMPLOYED AND UNEMPLOYED)",
          "ACTIVE LABOUR FORCE (EMPLOYED AND UNEMPLOYED)",
          "ACTIVE LABOUR FORCE (EMPLOYED AND UNEMPLOYED)",
          "ACTIVE LABOUR FORCE (EMPLOYED AND UNEMPLOYED)",
          "ACTIVE LABOUR FORCE (EMPLOYED AND UNEMPLOYED)",
          "ACTIVE LABOUR FORCE (EMPLOYED AND UNEMPLOYED)",
          "ACTIVE LABOUR FORCE (EMPLOYED AND UNEMPLOYED)",
          "ACTIVE LABOUR FORCE (EMPLOYED AND UNEMPLOYED)",
          "ACTIVE LABOUR FORCE (EMPLOYED AND UNEMPLOYED)",
          "ACTIVE LABOUR FORCE (EMPLOYED AND UNEMPLOYED)",
          "ACTIVE LABOUR FORCE (EMPLOYED AND UNEMPLOYED)",
          "ACTIVE LABOUR FORCE (EMPLOYED AND UNEMPLOYED)"
         ],
         "legendgroup": "PERCENTAGE OF INDIVIDUALS",
         "marker": {
          "color": "#636efa",
          "pattern": {
           "shape": ""
          }
         },
         "name": "PERCENTAGE OF INDIVIDUALS",
         "offsetgroup": "PERCENTAGE OF INDIVIDUALS",
         "orientation": "v",
         "showlegend": false,
         "textposition": "auto",
         "type": "bar",
         "x": [
          "CZECH REPUBLIC",
          "CZECH REPUBLIC",
          "GREECE",
          "FRANCE",
          "ITALY",
          "FRANCE",
          "CROATIA",
          "AUSTRIA",
          "CYPRUS",
          "CYPRUS",
          "GREECE",
          "LATVIA",
          "CROATIA",
          "AUSTRIA",
          "ESTONIA",
          "HUNGARY",
          "SPAIN",
          "ESTONIA",
          "POLAND",
          "DENMARK",
          "BELGIUM",
          "IRELAND",
          "FINLAND",
          "DENMARK",
          "HUNGARY",
          "FINLAND",
          "LUXEMBOURG",
          "SLOVENIA",
          "LITHUANIA",
          "PORTUGAL",
          "BELGIUM",
          "MALTA",
          "SWEDEN",
          "NORWAY",
          "UNITED KINGDOM",
          "ICELAND",
          "NETHERLANDS"
         ],
         "xaxis": "x2",
         "y": [
          26,
          26,
          32,
          33,
          33,
          34,
          35,
          37,
          37,
          39,
          39,
          40,
          41,
          41,
          43,
          43,
          47,
          47,
          48,
          48,
          49,
          49,
          49,
          49,
          50,
          51,
          52,
          52,
          52,
          52,
          54,
          54,
          55,
          59,
          61,
          65,
          73
         ],
         "yaxis": "y2"
        },
        {
         "alignmentgroup": "True",
         "hovertemplate": "<b>%{hovertext}</b><br><br>Unit of measure=PERCENTAGE OF INDIVIDUALS WHO USED INTERNET IN THE LAST 3 MONTHS<br>Date=2009<br>Income Group=UPPER MIDDLE INCOME<br>Country Name=%{x}<br>Value_digital=%{y}<extra></extra>",
         "hovertext": [
          "ACTIVE LABOUR FORCE (EMPLOYED AND UNEMPLOYED)",
          "ACTIVE LABOUR FORCE (EMPLOYED AND UNEMPLOYED)",
          "ACTIVE LABOUR FORCE (EMPLOYED AND UNEMPLOYED)",
          "ACTIVE LABOUR FORCE (EMPLOYED AND UNEMPLOYED)"
         ],
         "legendgroup": "PERCENTAGE OF INDIVIDUALS WHO USED INTERNET IN THE LAST 3 MONTHS",
         "marker": {
          "color": "#EF553B",
          "pattern": {
           "shape": ""
          }
         },
         "name": "PERCENTAGE OF INDIVIDUALS WHO USED INTERNET IN THE LAST 3 MONTHS",
         "offsetgroup": "PERCENTAGE OF INDIVIDUALS WHO USED INTERNET IN THE LAST 3 MONTHS",
         "orientation": "v",
         "showlegend": true,
         "textposition": "auto",
         "type": "bar",
         "x": [
          "SERBIA",
          "ROMANIA",
          "BULGARIA",
          "TURKEY"
         ],
         "xaxis": "x5",
         "y": [
          35,
          45,
          49,
          57
         ],
         "yaxis": "y5"
        },
        {
         "alignmentgroup": "True",
         "hovertemplate": "<b>%{hovertext}</b><br><br>Unit of measure=PERCENTAGE OF INDIVIDUALS WHO USED INTERNET IN THE LAST 3 MONTHS<br>Date=2009<br>Income Group=HIGH INCOME<br>Country Name=%{x}<br>Value_digital=%{y}<extra></extra>",
         "hovertext": [
          "ACTIVE LABOUR FORCE (EMPLOYED AND UNEMPLOYED)",
          "ACTIVE LABOUR FORCE (EMPLOYED AND UNEMPLOYED)",
          "ACTIVE LABOUR FORCE (EMPLOYED AND UNEMPLOYED)",
          "ACTIVE LABOUR FORCE (EMPLOYED AND UNEMPLOYED)",
          "ACTIVE LABOUR FORCE (EMPLOYED AND UNEMPLOYED)",
          "ACTIVE LABOUR FORCE (EMPLOYED AND UNEMPLOYED)",
          "ACTIVE LABOUR FORCE (EMPLOYED AND UNEMPLOYED)",
          "ACTIVE LABOUR FORCE (EMPLOYED AND UNEMPLOYED)",
          "ACTIVE LABOUR FORCE (EMPLOYED AND UNEMPLOYED)",
          "ACTIVE LABOUR FORCE (EMPLOYED AND UNEMPLOYED)",
          "ACTIVE LABOUR FORCE (EMPLOYED AND UNEMPLOYED)",
          "ACTIVE LABOUR FORCE (EMPLOYED AND UNEMPLOYED)",
          "ACTIVE LABOUR FORCE (EMPLOYED AND UNEMPLOYED)",
          "ACTIVE LABOUR FORCE (EMPLOYED AND UNEMPLOYED)",
          "ACTIVE LABOUR FORCE (EMPLOYED AND UNEMPLOYED)",
          "ACTIVE LABOUR FORCE (EMPLOYED AND UNEMPLOYED)",
          "ACTIVE LABOUR FORCE (EMPLOYED AND UNEMPLOYED)",
          "ACTIVE LABOUR FORCE (EMPLOYED AND UNEMPLOYED)",
          "ACTIVE LABOUR FORCE (EMPLOYED AND UNEMPLOYED)",
          "ACTIVE LABOUR FORCE (EMPLOYED AND UNEMPLOYED)",
          "ACTIVE LABOUR FORCE (EMPLOYED AND UNEMPLOYED)",
          "ACTIVE LABOUR FORCE (EMPLOYED AND UNEMPLOYED)",
          "ACTIVE LABOUR FORCE (EMPLOYED AND UNEMPLOYED)",
          "ACTIVE LABOUR FORCE (EMPLOYED AND UNEMPLOYED)",
          "ACTIVE LABOUR FORCE (EMPLOYED AND UNEMPLOYED)",
          "ACTIVE LABOUR FORCE (EMPLOYED AND UNEMPLOYED)"
         ],
         "legendgroup": "PERCENTAGE OF INDIVIDUALS WHO USED INTERNET IN THE LAST 3 MONTHS",
         "marker": {
          "color": "#EF553B",
          "pattern": {
           "shape": ""
          }
         },
         "name": "PERCENTAGE OF INDIVIDUALS WHO USED INTERNET IN THE LAST 3 MONTHS",
         "offsetgroup": "PERCENTAGE OF INDIVIDUALS WHO USED INTERNET IN THE LAST 3 MONTHS",
         "orientation": "v",
         "showlegend": false,
         "textposition": "auto",
         "type": "bar",
         "x": [
          "IRELAND",
          "AUSTRIA",
          "NETHERLANDS",
          "CZECH REPUBLIC",
          "FINLAND",
          "FRANCE",
          "ITALY",
          "BELGIUM",
          "GREECE",
          "CYPRUS",
          "SWEDEN",
          "MALTA",
          "PORTUGAL",
          "CROATIA",
          "LATVIA",
          "LUXEMBOURG",
          "UNITED KINGDOM",
          "SLOVENIA",
          "ESTONIA",
          "SPAIN",
          "NORWAY",
          "HUNGARY",
          "ICELAND",
          "DENMARK",
          "POLAND",
          "LITHUANIA"
         ],
         "xaxis": "x6",
         "y": [
          23,
          28,
          29,
          30,
          31,
          33,
          35,
          35,
          36,
          36,
          37,
          39,
          39,
          41,
          42,
          42,
          42,
          48,
          48,
          50,
          55,
          56,
          56,
          58,
          58,
          58
         ],
         "yaxis": "y6"
        },
        {
         "alignmentgroup": "True",
         "hovertemplate": "<b>%{hovertext}</b><br><br>Unit of measure=PERCENTAGE OF INDIVIDUALS WHO USED INTERNET IN THE LAST 3 MONTHS<br>Date=2010<br>Income Group=UPPER MIDDLE INCOME<br>Country Name=%{x}<br>Value_digital=%{y}<extra></extra>",
         "hovertext": [
          "ACTIVE LABOUR FORCE (EMPLOYED AND UNEMPLOYED)",
          "ACTIVE LABOUR FORCE (EMPLOYED AND UNEMPLOYED)",
          "ACTIVE LABOUR FORCE (EMPLOYED AND UNEMPLOYED)"
         ],
         "legendgroup": "PERCENTAGE OF INDIVIDUALS WHO USED INTERNET IN THE LAST 3 MONTHS",
         "marker": {
          "color": "#EF553B",
          "pattern": {
           "shape": ""
          }
         },
         "name": "PERCENTAGE OF INDIVIDUALS WHO USED INTERNET IN THE LAST 3 MONTHS",
         "offsetgroup": "PERCENTAGE OF INDIVIDUALS WHO USED INTERNET IN THE LAST 3 MONTHS",
         "orientation": "v",
         "showlegend": false,
         "textposition": "auto",
         "type": "bar",
         "x": [
          "ROMANIA",
          "BULGARIA",
          "TURKEY"
         ],
         "xaxis": "x3",
         "y": [
          45,
          52,
          65
         ],
         "yaxis": "y3"
        },
        {
         "alignmentgroup": "True",
         "hovertemplate": "<b>%{hovertext}</b><br><br>Unit of measure=PERCENTAGE OF INDIVIDUALS WHO USED INTERNET IN THE LAST 3 MONTHS<br>Date=2010<br>Income Group=HIGH INCOME<br>Country Name=%{x}<br>Value_digital=%{y}<extra></extra>",
         "hovertext": [
          "ACTIVE LABOUR FORCE (EMPLOYED AND UNEMPLOYED)",
          "ACTIVE LABOUR FORCE (EMPLOYED AND UNEMPLOYED)",
          "ACTIVE LABOUR FORCE (EMPLOYED AND UNEMPLOYED)",
          "ACTIVE LABOUR FORCE (EMPLOYED AND UNEMPLOYED)",
          "ACTIVE LABOUR FORCE (EMPLOYED AND UNEMPLOYED)",
          "ACTIVE LABOUR FORCE (EMPLOYED AND UNEMPLOYED)",
          "ACTIVE LABOUR FORCE (EMPLOYED AND UNEMPLOYED)",
          "ACTIVE LABOUR FORCE (EMPLOYED AND UNEMPLOYED)",
          "ACTIVE LABOUR FORCE (EMPLOYED AND UNEMPLOYED)",
          "ACTIVE LABOUR FORCE (EMPLOYED AND UNEMPLOYED)",
          "ACTIVE LABOUR FORCE (EMPLOYED AND UNEMPLOYED)",
          "ACTIVE LABOUR FORCE (EMPLOYED AND UNEMPLOYED)",
          "ACTIVE LABOUR FORCE (EMPLOYED AND UNEMPLOYED)",
          "ACTIVE LABOUR FORCE (EMPLOYED AND UNEMPLOYED)",
          "ACTIVE LABOUR FORCE (EMPLOYED AND UNEMPLOYED)",
          "ACTIVE LABOUR FORCE (EMPLOYED AND UNEMPLOYED)",
          "ACTIVE LABOUR FORCE (EMPLOYED AND UNEMPLOYED)",
          "ACTIVE LABOUR FORCE (EMPLOYED AND UNEMPLOYED)",
          "ACTIVE LABOUR FORCE (EMPLOYED AND UNEMPLOYED)",
          "ACTIVE LABOUR FORCE (EMPLOYED AND UNEMPLOYED)",
          "ACTIVE LABOUR FORCE (EMPLOYED AND UNEMPLOYED)",
          "ACTIVE LABOUR FORCE (EMPLOYED AND UNEMPLOYED)",
          "ACTIVE LABOUR FORCE (EMPLOYED AND UNEMPLOYED)",
          "ACTIVE LABOUR FORCE (EMPLOYED AND UNEMPLOYED)",
          "ACTIVE LABOUR FORCE (EMPLOYED AND UNEMPLOYED)",
          "ACTIVE LABOUR FORCE (EMPLOYED AND UNEMPLOYED)"
         ],
         "legendgroup": "PERCENTAGE OF INDIVIDUALS WHO USED INTERNET IN THE LAST 3 MONTHS",
         "marker": {
          "color": "#EF553B",
          "pattern": {
           "shape": ""
          }
         },
         "name": "PERCENTAGE OF INDIVIDUALS WHO USED INTERNET IN THE LAST 3 MONTHS",
         "offsetgroup": "PERCENTAGE OF INDIVIDUALS WHO USED INTERNET IN THE LAST 3 MONTHS",
         "orientation": "v",
         "showlegend": false,
         "textposition": "auto",
         "type": "bar",
         "x": [
          "CZECH REPUBLIC",
          "CROATIA",
          "AUSTRIA",
          "IRELAND",
          "BELGIUM",
          "LATVIA",
          "ITALY",
          "FRANCE",
          "LUXEMBOURG",
          "CYPRUS",
          "ICELAND",
          "GREECE",
          "UNITED KINGDOM",
          "ESTONIA",
          "NETHERLANDS",
          "SLOVENIA",
          "SPAIN",
          "MALTA",
          "FINLAND",
          "NORWAY",
          "DENMARK",
          "SWEDEN",
          "HUNGARY",
          "LITHUANIA",
          "POLAND",
          "PORTUGAL"
         ],
         "xaxis": "x4",
         "y": [
          32,
          34,
          34,
          35,
          36,
          37,
          38,
          39,
          40,
          41,
          42,
          43,
          43,
          44,
          44,
          46,
          46,
          47,
          47,
          48,
          49,
          49,
          55,
          63,
          66,
          66
         ],
         "yaxis": "y4"
        },
        {
         "alignmentgroup": "True",
         "hovertemplate": "<b>%{hovertext}</b><br><br>Unit of measure=PERCENTAGE OF INDIVIDUALS WHO USED INTERNET IN THE LAST 3 MONTHS<br>Date=2012<br>Income Group=UPPER MIDDLE INCOME<br>Country Name=%{x}<br>Value_digital=%{y}<extra></extra>",
         "hovertext": [
          "ACTIVE LABOUR FORCE (EMPLOYED AND UNEMPLOYED)",
          "ACTIVE LABOUR FORCE (EMPLOYED AND UNEMPLOYED)",
          "ACTIVE LABOUR FORCE (EMPLOYED AND UNEMPLOYED)",
          "ACTIVE LABOUR FORCE (EMPLOYED AND UNEMPLOYED)"
         ],
         "legendgroup": "PERCENTAGE OF INDIVIDUALS WHO USED INTERNET IN THE LAST 3 MONTHS",
         "marker": {
          "color": "#EF553B",
          "pattern": {
           "shape": ""
          }
         },
         "name": "PERCENTAGE OF INDIVIDUALS WHO USED INTERNET IN THE LAST 3 MONTHS",
         "offsetgroup": "PERCENTAGE OF INDIVIDUALS WHO USED INTERNET IN THE LAST 3 MONTHS",
         "orientation": "v",
         "showlegend": false,
         "textposition": "auto",
         "type": "bar",
         "x": [
          "TURKEY",
          "ROMANIA",
          "BULGARIA",
          "MONTENEGRO"
         ],
         "xaxis": "x",
         "y": [
          42,
          45,
          54,
          74
         ],
         "yaxis": "y"
        },
        {
         "alignmentgroup": "True",
         "hovertemplate": "<b>%{hovertext}</b><br><br>Unit of measure=PERCENTAGE OF INDIVIDUALS WHO USED INTERNET IN THE LAST 3 MONTHS<br>Date=2012<br>Income Group=HIGH INCOME<br>Country Name=%{x}<br>Value_digital=%{y}<extra></extra>",
         "hovertext": [
          "ACTIVE LABOUR FORCE (EMPLOYED AND UNEMPLOYED)",
          "ACTIVE LABOUR FORCE (EMPLOYED AND UNEMPLOYED)",
          "ACTIVE LABOUR FORCE (EMPLOYED AND UNEMPLOYED)",
          "ACTIVE LABOUR FORCE (EMPLOYED AND UNEMPLOYED)",
          "ACTIVE LABOUR FORCE (EMPLOYED AND UNEMPLOYED)",
          "ACTIVE LABOUR FORCE (EMPLOYED AND UNEMPLOYED)",
          "ACTIVE LABOUR FORCE (EMPLOYED AND UNEMPLOYED)",
          "ACTIVE LABOUR FORCE (EMPLOYED AND UNEMPLOYED)",
          "ACTIVE LABOUR FORCE (EMPLOYED AND UNEMPLOYED)",
          "ACTIVE LABOUR FORCE (EMPLOYED AND UNEMPLOYED)",
          "ACTIVE LABOUR FORCE (EMPLOYED AND UNEMPLOYED)",
          "ACTIVE LABOUR FORCE (EMPLOYED AND UNEMPLOYED)",
          "ACTIVE LABOUR FORCE (EMPLOYED AND UNEMPLOYED)",
          "ACTIVE LABOUR FORCE (EMPLOYED AND UNEMPLOYED)",
          "ACTIVE LABOUR FORCE (EMPLOYED AND UNEMPLOYED)",
          "ACTIVE LABOUR FORCE (EMPLOYED AND UNEMPLOYED)",
          "ACTIVE LABOUR FORCE (EMPLOYED AND UNEMPLOYED)",
          "ACTIVE LABOUR FORCE (EMPLOYED AND UNEMPLOYED)",
          "ACTIVE LABOUR FORCE (EMPLOYED AND UNEMPLOYED)",
          "ACTIVE LABOUR FORCE (EMPLOYED AND UNEMPLOYED)",
          "ACTIVE LABOUR FORCE (EMPLOYED AND UNEMPLOYED)",
          "ACTIVE LABOUR FORCE (EMPLOYED AND UNEMPLOYED)",
          "ACTIVE LABOUR FORCE (EMPLOYED AND UNEMPLOYED)",
          "ACTIVE LABOUR FORCE (EMPLOYED AND UNEMPLOYED)",
          "ACTIVE LABOUR FORCE (EMPLOYED AND UNEMPLOYED)",
          "ACTIVE LABOUR FORCE (EMPLOYED AND UNEMPLOYED)"
         ],
         "legendgroup": "PERCENTAGE OF INDIVIDUALS WHO USED INTERNET IN THE LAST 3 MONTHS",
         "marker": {
          "color": "#EF553B",
          "pattern": {
           "shape": ""
          }
         },
         "name": "PERCENTAGE OF INDIVIDUALS WHO USED INTERNET IN THE LAST 3 MONTHS",
         "offsetgroup": "PERCENTAGE OF INDIVIDUALS WHO USED INTERNET IN THE LAST 3 MONTHS",
         "orientation": "v",
         "showlegend": false,
         "textposition": "auto",
         "type": "bar",
         "x": [
          "CZECH REPUBLIC",
          "FRANCE",
          "AUSTRIA",
          "LATVIA",
          "ITALY",
          "DENMARK",
          "CROATIA",
          "FINLAND",
          "ESTONIA",
          "LUXEMBOURG",
          "CYPRUS",
          "SWEDEN",
          "GREECE",
          "IRELAND",
          "SPAIN",
          "HUNGARY",
          "BELGIUM",
          "NORWAY",
          "SLOVENIA",
          "MALTA",
          "POLAND",
          "ICELAND",
          "UNITED KINGDOM",
          "LITHUANIA",
          "NETHERLANDS",
          "PORTUGAL"
         ],
         "xaxis": "x2",
         "y": [
          31,
          38,
          46,
          48,
          49,
          50,
          53,
          53,
          53,
          54,
          57,
          57,
          57,
          58,
          59,
          60,
          60,
          60,
          63,
          64,
          65,
          66,
          66,
          67,
          74,
          74
         ],
         "yaxis": "y2"
        }
       ],
       "layout": {
        "annotations": [
         {
          "font": {},
          "showarrow": false,
          "text": "UPPER MIDDLE INCOME",
          "x": 0.24,
          "xanchor": "center",
          "xref": "paper",
          "y": 0.9999999999999998,
          "yanchor": "bottom",
          "yref": "paper"
         },
         {
          "font": {},
          "showarrow": false,
          "text": "HIGH INCOME",
          "x": 0.74,
          "xanchor": "center",
          "xref": "paper",
          "y": 0.9999999999999998,
          "yanchor": "bottom",
          "yref": "paper"
         },
         {
          "font": {},
          "showarrow": false,
          "text": "2012",
          "textangle": 90,
          "x": 0.98,
          "xanchor": "left",
          "xref": "paper",
          "y": 0.15666666666666665,
          "yanchor": "middle",
          "yref": "paper"
         },
         {
          "font": {},
          "showarrow": false,
          "text": "2010",
          "textangle": 90,
          "x": 0.98,
          "xanchor": "left",
          "xref": "paper",
          "y": 0.4999999999999999,
          "yanchor": "middle",
          "yref": "paper"
         },
         {
          "font": {},
          "showarrow": false,
          "text": "2009",
          "textangle": 90,
          "x": 0.98,
          "xanchor": "left",
          "xref": "paper",
          "y": 0.8433333333333332,
          "yanchor": "middle",
          "yref": "paper"
         }
        ],
        "barmode": "relative",
        "legend": {
         "title": {
          "text": "Unit of measure"
         },
         "tracegroupgap": 0
        },
        "margin": {
         "t": 60
        },
        "template": {
         "data": {
          "bar": [
           {
            "error_x": {
             "color": "#2a3f5f"
            },
            "error_y": {
             "color": "#2a3f5f"
            },
            "marker": {
             "line": {
              "color": "#E5ECF6",
              "width": 0.5
             },
             "pattern": {
              "fillmode": "overlay",
              "size": 10,
              "solidity": 0.2
             }
            },
            "type": "bar"
           }
          ],
          "barpolar": [
           {
            "marker": {
             "line": {
              "color": "#E5ECF6",
              "width": 0.5
             },
             "pattern": {
              "fillmode": "overlay",
              "size": 10,
              "solidity": 0.2
             }
            },
            "type": "barpolar"
           }
          ],
          "carpet": [
           {
            "aaxis": {
             "endlinecolor": "#2a3f5f",
             "gridcolor": "white",
             "linecolor": "white",
             "minorgridcolor": "white",
             "startlinecolor": "#2a3f5f"
            },
            "baxis": {
             "endlinecolor": "#2a3f5f",
             "gridcolor": "white",
             "linecolor": "white",
             "minorgridcolor": "white",
             "startlinecolor": "#2a3f5f"
            },
            "type": "carpet"
           }
          ],
          "choropleth": [
           {
            "colorbar": {
             "outlinewidth": 0,
             "ticks": ""
            },
            "type": "choropleth"
           }
          ],
          "contour": [
           {
            "colorbar": {
             "outlinewidth": 0,
             "ticks": ""
            },
            "colorscale": [
             [
              0,
              "#0d0887"
             ],
             [
              0.1111111111111111,
              "#46039f"
             ],
             [
              0.2222222222222222,
              "#7201a8"
             ],
             [
              0.3333333333333333,
              "#9c179e"
             ],
             [
              0.4444444444444444,
              "#bd3786"
             ],
             [
              0.5555555555555556,
              "#d8576b"
             ],
             [
              0.6666666666666666,
              "#ed7953"
             ],
             [
              0.7777777777777778,
              "#fb9f3a"
             ],
             [
              0.8888888888888888,
              "#fdca26"
             ],
             [
              1,
              "#f0f921"
             ]
            ],
            "type": "contour"
           }
          ],
          "contourcarpet": [
           {
            "colorbar": {
             "outlinewidth": 0,
             "ticks": ""
            },
            "type": "contourcarpet"
           }
          ],
          "heatmap": [
           {
            "colorbar": {
             "outlinewidth": 0,
             "ticks": ""
            },
            "colorscale": [
             [
              0,
              "#0d0887"
             ],
             [
              0.1111111111111111,
              "#46039f"
             ],
             [
              0.2222222222222222,
              "#7201a8"
             ],
             [
              0.3333333333333333,
              "#9c179e"
             ],
             [
              0.4444444444444444,
              "#bd3786"
             ],
             [
              0.5555555555555556,
              "#d8576b"
             ],
             [
              0.6666666666666666,
              "#ed7953"
             ],
             [
              0.7777777777777778,
              "#fb9f3a"
             ],
             [
              0.8888888888888888,
              "#fdca26"
             ],
             [
              1,
              "#f0f921"
             ]
            ],
            "type": "heatmap"
           }
          ],
          "heatmapgl": [
           {
            "colorbar": {
             "outlinewidth": 0,
             "ticks": ""
            },
            "colorscale": [
             [
              0,
              "#0d0887"
             ],
             [
              0.1111111111111111,
              "#46039f"
             ],
             [
              0.2222222222222222,
              "#7201a8"
             ],
             [
              0.3333333333333333,
              "#9c179e"
             ],
             [
              0.4444444444444444,
              "#bd3786"
             ],
             [
              0.5555555555555556,
              "#d8576b"
             ],
             [
              0.6666666666666666,
              "#ed7953"
             ],
             [
              0.7777777777777778,
              "#fb9f3a"
             ],
             [
              0.8888888888888888,
              "#fdca26"
             ],
             [
              1,
              "#f0f921"
             ]
            ],
            "type": "heatmapgl"
           }
          ],
          "histogram": [
           {
            "marker": {
             "pattern": {
              "fillmode": "overlay",
              "size": 10,
              "solidity": 0.2
             }
            },
            "type": "histogram"
           }
          ],
          "histogram2d": [
           {
            "colorbar": {
             "outlinewidth": 0,
             "ticks": ""
            },
            "colorscale": [
             [
              0,
              "#0d0887"
             ],
             [
              0.1111111111111111,
              "#46039f"
             ],
             [
              0.2222222222222222,
              "#7201a8"
             ],
             [
              0.3333333333333333,
              "#9c179e"
             ],
             [
              0.4444444444444444,
              "#bd3786"
             ],
             [
              0.5555555555555556,
              "#d8576b"
             ],
             [
              0.6666666666666666,
              "#ed7953"
             ],
             [
              0.7777777777777778,
              "#fb9f3a"
             ],
             [
              0.8888888888888888,
              "#fdca26"
             ],
             [
              1,
              "#f0f921"
             ]
            ],
            "type": "histogram2d"
           }
          ],
          "histogram2dcontour": [
           {
            "colorbar": {
             "outlinewidth": 0,
             "ticks": ""
            },
            "colorscale": [
             [
              0,
              "#0d0887"
             ],
             [
              0.1111111111111111,
              "#46039f"
             ],
             [
              0.2222222222222222,
              "#7201a8"
             ],
             [
              0.3333333333333333,
              "#9c179e"
             ],
             [
              0.4444444444444444,
              "#bd3786"
             ],
             [
              0.5555555555555556,
              "#d8576b"
             ],
             [
              0.6666666666666666,
              "#ed7953"
             ],
             [
              0.7777777777777778,
              "#fb9f3a"
             ],
             [
              0.8888888888888888,
              "#fdca26"
             ],
             [
              1,
              "#f0f921"
             ]
            ],
            "type": "histogram2dcontour"
           }
          ],
          "mesh3d": [
           {
            "colorbar": {
             "outlinewidth": 0,
             "ticks": ""
            },
            "type": "mesh3d"
           }
          ],
          "parcoords": [
           {
            "line": {
             "colorbar": {
              "outlinewidth": 0,
              "ticks": ""
             }
            },
            "type": "parcoords"
           }
          ],
          "pie": [
           {
            "automargin": true,
            "type": "pie"
           }
          ],
          "scatter": [
           {
            "marker": {
             "colorbar": {
              "outlinewidth": 0,
              "ticks": ""
             }
            },
            "type": "scatter"
           }
          ],
          "scatter3d": [
           {
            "line": {
             "colorbar": {
              "outlinewidth": 0,
              "ticks": ""
             }
            },
            "marker": {
             "colorbar": {
              "outlinewidth": 0,
              "ticks": ""
             }
            },
            "type": "scatter3d"
           }
          ],
          "scattercarpet": [
           {
            "marker": {
             "colorbar": {
              "outlinewidth": 0,
              "ticks": ""
             }
            },
            "type": "scattercarpet"
           }
          ],
          "scattergeo": [
           {
            "marker": {
             "colorbar": {
              "outlinewidth": 0,
              "ticks": ""
             }
            },
            "type": "scattergeo"
           }
          ],
          "scattergl": [
           {
            "marker": {
             "colorbar": {
              "outlinewidth": 0,
              "ticks": ""
             }
            },
            "type": "scattergl"
           }
          ],
          "scattermapbox": [
           {
            "marker": {
             "colorbar": {
              "outlinewidth": 0,
              "ticks": ""
             }
            },
            "type": "scattermapbox"
           }
          ],
          "scatterpolar": [
           {
            "marker": {
             "colorbar": {
              "outlinewidth": 0,
              "ticks": ""
             }
            },
            "type": "scatterpolar"
           }
          ],
          "scatterpolargl": [
           {
            "marker": {
             "colorbar": {
              "outlinewidth": 0,
              "ticks": ""
             }
            },
            "type": "scatterpolargl"
           }
          ],
          "scatterternary": [
           {
            "marker": {
             "colorbar": {
              "outlinewidth": 0,
              "ticks": ""
             }
            },
            "type": "scatterternary"
           }
          ],
          "surface": [
           {
            "colorbar": {
             "outlinewidth": 0,
             "ticks": ""
            },
            "colorscale": [
             [
              0,
              "#0d0887"
             ],
             [
              0.1111111111111111,
              "#46039f"
             ],
             [
              0.2222222222222222,
              "#7201a8"
             ],
             [
              0.3333333333333333,
              "#9c179e"
             ],
             [
              0.4444444444444444,
              "#bd3786"
             ],
             [
              0.5555555555555556,
              "#d8576b"
             ],
             [
              0.6666666666666666,
              "#ed7953"
             ],
             [
              0.7777777777777778,
              "#fb9f3a"
             ],
             [
              0.8888888888888888,
              "#fdca26"
             ],
             [
              1,
              "#f0f921"
             ]
            ],
            "type": "surface"
           }
          ],
          "table": [
           {
            "cells": {
             "fill": {
              "color": "#EBF0F8"
             },
             "line": {
              "color": "white"
             }
            },
            "header": {
             "fill": {
              "color": "#C8D4E3"
             },
             "line": {
              "color": "white"
             }
            },
            "type": "table"
           }
          ]
         },
         "layout": {
          "annotationdefaults": {
           "arrowcolor": "#2a3f5f",
           "arrowhead": 0,
           "arrowwidth": 1
          },
          "autotypenumbers": "strict",
          "coloraxis": {
           "colorbar": {
            "outlinewidth": 0,
            "ticks": ""
           }
          },
          "colorscale": {
           "diverging": [
            [
             0,
             "#8e0152"
            ],
            [
             0.1,
             "#c51b7d"
            ],
            [
             0.2,
             "#de77ae"
            ],
            [
             0.3,
             "#f1b6da"
            ],
            [
             0.4,
             "#fde0ef"
            ],
            [
             0.5,
             "#f7f7f7"
            ],
            [
             0.6,
             "#e6f5d0"
            ],
            [
             0.7,
             "#b8e186"
            ],
            [
             0.8,
             "#7fbc41"
            ],
            [
             0.9,
             "#4d9221"
            ],
            [
             1,
             "#276419"
            ]
           ],
           "sequential": [
            [
             0,
             "#0d0887"
            ],
            [
             0.1111111111111111,
             "#46039f"
            ],
            [
             0.2222222222222222,
             "#7201a8"
            ],
            [
             0.3333333333333333,
             "#9c179e"
            ],
            [
             0.4444444444444444,
             "#bd3786"
            ],
            [
             0.5555555555555556,
             "#d8576b"
            ],
            [
             0.6666666666666666,
             "#ed7953"
            ],
            [
             0.7777777777777778,
             "#fb9f3a"
            ],
            [
             0.8888888888888888,
             "#fdca26"
            ],
            [
             1,
             "#f0f921"
            ]
           ],
           "sequentialminus": [
            [
             0,
             "#0d0887"
            ],
            [
             0.1111111111111111,
             "#46039f"
            ],
            [
             0.2222222222222222,
             "#7201a8"
            ],
            [
             0.3333333333333333,
             "#9c179e"
            ],
            [
             0.4444444444444444,
             "#bd3786"
            ],
            [
             0.5555555555555556,
             "#d8576b"
            ],
            [
             0.6666666666666666,
             "#ed7953"
            ],
            [
             0.7777777777777778,
             "#fb9f3a"
            ],
            [
             0.8888888888888888,
             "#fdca26"
            ],
            [
             1,
             "#f0f921"
            ]
           ]
          },
          "colorway": [
           "#636efa",
           "#EF553B",
           "#00cc96",
           "#ab63fa",
           "#FFA15A",
           "#19d3f3",
           "#FF6692",
           "#B6E880",
           "#FF97FF",
           "#FECB52"
          ],
          "font": {
           "color": "#2a3f5f"
          },
          "geo": {
           "bgcolor": "white",
           "lakecolor": "white",
           "landcolor": "#E5ECF6",
           "showlakes": true,
           "showland": true,
           "subunitcolor": "white"
          },
          "hoverlabel": {
           "align": "left"
          },
          "hovermode": "closest",
          "mapbox": {
           "style": "light"
          },
          "paper_bgcolor": "white",
          "plot_bgcolor": "#E5ECF6",
          "polar": {
           "angularaxis": {
            "gridcolor": "white",
            "linecolor": "white",
            "ticks": ""
           },
           "bgcolor": "#E5ECF6",
           "radialaxis": {
            "gridcolor": "white",
            "linecolor": "white",
            "ticks": ""
           }
          },
          "scene": {
           "xaxis": {
            "backgroundcolor": "#E5ECF6",
            "gridcolor": "white",
            "gridwidth": 2,
            "linecolor": "white",
            "showbackground": true,
            "ticks": "",
            "zerolinecolor": "white"
           },
           "yaxis": {
            "backgroundcolor": "#E5ECF6",
            "gridcolor": "white",
            "gridwidth": 2,
            "linecolor": "white",
            "showbackground": true,
            "ticks": "",
            "zerolinecolor": "white"
           },
           "zaxis": {
            "backgroundcolor": "#E5ECF6",
            "gridcolor": "white",
            "gridwidth": 2,
            "linecolor": "white",
            "showbackground": true,
            "ticks": "",
            "zerolinecolor": "white"
           }
          },
          "shapedefaults": {
           "line": {
            "color": "#2a3f5f"
           }
          },
          "ternary": {
           "aaxis": {
            "gridcolor": "white",
            "linecolor": "white",
            "ticks": ""
           },
           "baxis": {
            "gridcolor": "white",
            "linecolor": "white",
            "ticks": ""
           },
           "bgcolor": "#E5ECF6",
           "caxis": {
            "gridcolor": "white",
            "linecolor": "white",
            "ticks": ""
           }
          },
          "title": {
           "x": 0.05
          },
          "xaxis": {
           "automargin": true,
           "gridcolor": "white",
           "linecolor": "white",
           "ticks": "",
           "title": {
            "standoff": 15
           },
           "zerolinecolor": "white",
           "zerolinewidth": 2
          },
          "yaxis": {
           "automargin": true,
           "gridcolor": "white",
           "linecolor": "white",
           "ticks": "",
           "title": {
            "standoff": 15
           },
           "zerolinecolor": "white",
           "zerolinewidth": 2
          }
         }
        },
        "xaxis": {
         "anchor": "y",
         "domain": [
          0,
          0.48
         ],
         "title": {
          "text": ""
         }
        },
        "xaxis2": {
         "anchor": "y2",
         "domain": [
          0.5,
          0.98
         ],
         "matches": "x",
         "title": {
          "text": ""
         }
        },
        "xaxis3": {
         "anchor": "y3",
         "domain": [
          0,
          0.48
         ],
         "matches": "x",
         "showticklabels": false,
         "title": {
          "text": ""
         }
        },
        "xaxis4": {
         "anchor": "y4",
         "domain": [
          0.5,
          0.98
         ],
         "matches": "x",
         "showticklabels": false,
         "title": {
          "text": ""
         }
        },
        "xaxis5": {
         "anchor": "y5",
         "domain": [
          0,
          0.48
         ],
         "matches": "x",
         "showticklabels": false,
         "title": {
          "text": ""
         }
        },
        "xaxis6": {
         "anchor": "y6",
         "domain": [
          0.5,
          0.98
         ],
         "matches": "x",
         "showticklabels": false,
         "title": {
          "text": ""
         }
        },
        "yaxis": {
         "anchor": "x",
         "domain": [
          0,
          0.3133333333333333
         ],
         "showticklabels": true,
         "title": {
          "text": "Percentage of Individuals Online"
         }
        },
        "yaxis2": {
         "anchor": "x2",
         "domain": [
          0,
          0.3133333333333333
         ],
         "showticklabels": true,
         "title": {
          "text": ""
         }
        },
        "yaxis3": {
         "anchor": "x3",
         "domain": [
          0.34333333333333327,
          0.6566666666666665
         ],
         "showticklabels": true,
         "title": {
          "text": ""
         }
        },
        "yaxis4": {
         "anchor": "x4",
         "domain": [
          0.34333333333333327,
          0.6566666666666665
         ],
         "showticklabels": true,
         "title": {
          "text": ""
         }
        },
        "yaxis5": {
         "anchor": "x5",
         "domain": [
          0.6866666666666665,
          0.9999999999999998
         ],
         "showticklabels": true,
         "title": {
          "text": ""
         }
        },
        "yaxis6": {
         "anchor": "x6",
         "domain": [
          0.6866666666666665,
          0.9999999999999998
         ],
         "showticklabels": true,
         "title": {
          "text": ""
         }
        }
       }
      }
     },
     "metadata": {},
     "output_type": "display_data"
    }
   ],
   "source": [
    "fig = px.bar(data, x='Country Name', y='Value_digital', color='Unit of measure', \n",
    "                facet_col='Income Group', facet_row='Date', hover_name='Individual type')\n",
    "fig.update_yaxes(matches=None)\n",
    "fig.for_each_yaxis(lambda y: y.update(title='', showticklabels=True)) # \n",
    "fig.for_each_xaxis(lambda y: y.update(title=''))\n",
    "fig.for_each_annotation(lambda a: a.update(text=a.text.split(\"=\")[-1]))\n",
    "fig.update_layout(yaxis=dict(title=\"Percentage of Individuals Online\"))\n",
    "fig.show()"
   ]
  }
 ],
 "metadata": {
  "kernelspec": {
   "display_name": "Python 3 (ipykernel)",
   "language": "python",
   "name": "python3"
  },
  "language_info": {
   "codemirror_mode": {
    "name": "ipython",
    "version": 3
   },
   "file_extension": ".py",
   "mimetype": "text/x-python",
   "name": "python",
   "nbconvert_exporter": "python",
   "pygments_lexer": "ipython3",
   "version": "3.9.7"
  }
 },
 "nbformat": 4,
 "nbformat_minor": 5
}
